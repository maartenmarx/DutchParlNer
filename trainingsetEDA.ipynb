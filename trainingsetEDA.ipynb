{
 "cells": [
  {
   "cell_type": "markdown",
   "metadata": {
    "toc": true
   },
   "source": [
    "<h1>Table of Contents<span class=\"tocSkip\"></span></h1>\n",
    "<div class=\"toc\"><ul class=\"toc-item\"><li><span><a href=\"#Number-of-training-examples-per-NER-class\" data-toc-modified-id=\"Number-of-training-examples-per-NER-class-1\"><span class=\"toc-item-num\">1&nbsp;&nbsp;</span>Number of training examples per NER class</a></span></li><li><span><a href=\"#Number-of-sentences-with-n-named-entities\" data-toc-modified-id=\"Number-of-sentences-with-n-named-entities-2\"><span class=\"toc-item-num\">2&nbsp;&nbsp;</span>Number of sentences with n named entities</a></span></li></ul></div>"
   ]
  },
  {
   "cell_type": "code",
   "execution_count": 1,
   "metadata": {},
   "outputs": [],
   "source": [
    "import json\n",
    "import pandas as pd"
   ]
  },
  {
   "cell_type": "code",
   "execution_count": 2,
   "metadata": {},
   "outputs": [
    {
     "data": {
      "text/plain": [
       "(5536,\n",
       " [['Er is een interruptie van mevrouw Dik-Faber.',\n",
       "   {'entities': [[26, 43, 'PERSON']]}],\n",
       "  ['Dank u wel.', {'entities': []}],\n",
       "  ['Ik zie toch nog een interruptie van de heer De Lange.', {'entities': []}],\n",
       "  ['Voorzitter.', {'entities': [[0, 10, 'PERSON']]}],\n",
       "  ['Een zeer urgente kwestie.', {'entities': []}]])"
      ]
     },
     "execution_count": 2,
     "metadata": {},
     "output_type": "execute_result"
    }
   ],
   "source": [
    "tr= json.load(open('NERtrainExamples.json'))\n",
    "len(tr), tr[:5]"
   ]
  },
  {
   "cell_type": "markdown",
   "metadata": {},
   "source": [
    "# Number of training examples per NER class"
   ]
  },
  {
   "cell_type": "code",
   "execution_count": 4,
   "metadata": {},
   "outputs": [
    {
     "data": {
      "text/plain": [
       "PERSON      1163\n",
       "ORG          954\n",
       "GPE          395\n",
       "CARDINAL     262\n",
       "DATE         261\n",
       "NORP         149\n",
       "ORDINAL      142\n",
       "LAW           76\n",
       "MONEY         75\n",
       "PERCENT       59\n",
       "EVENT         31\n",
       "TIME          13\n",
       "FAC           11\n",
       "LOC           11\n",
       "PRODUCT        2\n",
       "QUANTITY       2\n",
       "LANGUAGE       1\n",
       "dtype: int64"
      ]
     },
     "execution_count": 4,
     "metadata": {},
     "output_type": "execute_result"
    }
   ],
   "source": [
    "pd.Series([e[2] for s in tr for e in s[1]['entities'] ]).value_counts()"
   ]
  },
  {
   "cell_type": "markdown",
   "metadata": {},
   "source": [
    "# Number of sentences with n named entities"
   ]
  },
  {
   "cell_type": "code",
   "execution_count": 5,
   "metadata": {},
   "outputs": [
    {
     "data": {
      "text/plain": [
       "0    3156\n",
       "1    1580\n",
       "2     532\n",
       "3     164\n",
       "4      65\n",
       "5      27\n",
       "6       9\n",
       "7       2\n",
       "8       1\n",
       "dtype: int64"
      ]
     },
     "execution_count": 5,
     "metadata": {},
     "output_type": "execute_result"
    }
   ],
   "source": [
    "pd.Series([len(s[1]['entities']) for s in tr   ]).value_counts()"
   ]
  },
  {
   "cell_type": "code",
   "execution_count": null,
   "metadata": {},
   "outputs": [],
   "source": []
  }
 ],
 "metadata": {
  "kernelspec": {
   "display_name": "Python 3",
   "language": "python",
   "name": "python3"
  },
  "language_info": {
   "codemirror_mode": {
    "name": "ipython",
    "version": 3
   },
   "file_extension": ".py",
   "mimetype": "text/x-python",
   "name": "python",
   "nbconvert_exporter": "python",
   "pygments_lexer": "ipython3",
   "version": "3.6.3"
  },
  "toc": {
   "nav_menu": {},
   "number_sections": true,
   "sideBar": true,
   "skip_h1_title": false,
   "title_cell": "Table of Contents",
   "title_sidebar": "Contents",
   "toc_cell": true,
   "toc_position": {},
   "toc_section_display": true,
   "toc_window_display": false
  }
 },
 "nbformat": 4,
 "nbformat_minor": 2
}
